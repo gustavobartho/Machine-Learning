{
 "cells": [
  {
   "cell_type": "markdown",
   "metadata": {},
   "source": [
    "# Self-Organizing-Map (SOM)\n",
    "\n",
    "1. Initialisation\n",
    "   * Weights of neurons in the map layer are initialised.\n",
    "\n",
    "2. Competitive process\n",
    "   * Select one input sample and search the best matching unit among all neurons in n x m grid using distance measures.\n",
    "\n",
    "3. Cooperative process\n",
    "   * Find the proximity neurons of BMU by neighbourhood function.\n",
    "\n",
    "4. Adaptation process\n",
    "   * Update the BMU and neighbours' weights by shifting the values towards the input pattern.   If the maximum count of training iteration is reached, exit. If not, increment the iteration count by 1 and repeat the process from 2."
   ]
  },
  {
   "cell_type": "markdown",
   "metadata": {},
   "source": [
    "### 1. Import libraries"
   ]
  },
  {
   "cell_type": "code",
   "execution_count": 11,
   "metadata": {},
   "outputs": [],
   "source": [
    "import numpy as np\n",
    "from numpy.ma.core import ceil\n",
    "from scipy.spatial import distance #distance calculation\n",
    "from sklearn.preprocessing import MinMaxScaler #normalisation\n",
    "from sklearn.model_selection import train_test_split\n",
    "from sklearn.metrics import accuracy_score #scoring\n",
    "from sklearn.metrics import confusion_matrix\n",
    "import matplotlib.pyplot as plt\n",
    "from matplotlib import animation, colors"
   ]
  },
  {
   "cell_type": "markdown",
   "metadata": {},
   "source": [
    "### 2. Import dataset\n",
    "\n",
    "The CSV file is downloaded from the website and stored in a directory. We use the first 4 columns for x and the last column as y."
   ]
  },
  {
   "cell_type": "code",
   "execution_count": 12,
   "metadata": {},
   "outputs": [],
   "source": [
    "data_file = \"data_banknote_authentication.txt\"\n",
    "data_x = np.loadtxt(data_file, delimiter=\",\", skiprows=0, usecols=range(0,4) ,dtype=np.float64)\n",
    "data_y = np.loadtxt(data_file, delimiter=\",\", skiprows=0, usecols=(4,),dtype=np.int64)"
   ]
  },
  {
   "cell_type": "markdown",
   "metadata": {},
   "source": [
    "### 3. Training and testing data split\n",
    "\n",
    "The data is split for training and testing at 0.8:0.2. We can see there are 1097 and 275 observations, respectively."
   ]
  },
  {
   "cell_type": "code",
   "execution_count": 13,
   "metadata": {},
   "outputs": [
    {
     "name": "stdout",
     "output_type": "stream",
     "text": [
      "(1097, 4) (1097,) (275, 4) (275,)\n"
     ]
    }
   ],
   "source": [
    "# train and test split\n",
    "train_x, test_x, train_y, test_y = train_test_split(data_x, data_y, test_size=0.2, random_state=42)\n",
    "print(train_x.shape, train_y.shape, test_x.shape, test_y.shape) # check the shapes"
   ]
  },
  {
   "cell_type": "markdown",
   "metadata": {},
   "source": [
    "### 4. Helper functions\n",
    "\n",
    "* **minmax_scaler** is used to normalise the input data between 0 and 1. Because the algorithm calculates the distance, we should scale the values of each feature to the same range to avoid any of them having a greater impact on the distance calculation than other features.\n",
    "\n",
    "* **e_distance** calculates the Euclidean distance between the two points. \n",
    "\n",
    "* **m_distance** is for obtaining the Manhattan distance between two points on the grid. In our example, the Euclidean distance is used to search for the winning neuron while the Manhattan distance is used to limit the neighbourhood range. It simplifies the computation by applying the rectangular neighbourhood function where the neurons located within a certain Manhattan distance from the topological location of the BMU are activated at the same level.\n",
    "\n",
    "* **winning_neuron** searches the BMU for the sample data t. The distance between the input signal and every neuron in the map layer is calculated and the row and column index of the grid of the neuron with the shortest distance is returned.\n",
    "\n",
    "* **decay** returns learning rate and neighbourhood range after applying linear decay using the current training step, the maximum number of training steps and maximum neighbourhood range and learning rate."
   ]
  },
  {
   "cell_type": "code",
   "execution_count": 14,
   "metadata": {},
   "outputs": [],
   "source": [
    "# Helper functions\n",
    "\n",
    "# Data Normalisation\n",
    "def minmax_scaler(data):\n",
    "  scaler = MinMaxScaler()\n",
    "  scaled = scaler.fit_transform(data)\n",
    "  return scaled\n",
    "\n",
    "# Euclidean distance\n",
    "def e_distance(x,y):\n",
    "  return distance.euclidean(x,y)\n",
    "\n",
    "# Manhattan distance\n",
    "def m_distance(x,y):\n",
    "  return distance.cityblock(x,y)\n",
    "\n",
    "# Best Matching Unit search\n",
    "def winning_neuron(data, t, som, num_rows, num_cols):\n",
    "  winner = [0,0]\n",
    "  shortest_distance = np.sqrt(data.shape[1]) # initialise with max distance\n",
    "  input_data = data[t]\n",
    "  for row in range(num_rows):\n",
    "    for col in range(num_cols):\n",
    "      distance = e_distance(som[row][col], data[t])\n",
    "      if distance < shortest_distance: \n",
    "        shortest_distance = distance\n",
    "        winner = [row,col]\n",
    "  return winner\n",
    "\n",
    "# Learning rate and neighbourhood range calculation\n",
    "def decay(step, max_steps, max_learning_rate, max_m_dsitance):\n",
    "  coefficient = 1.0 - (np.float64(step) / max_steps)\n",
    "  learning_rate = coefficient * max_learning_rate\n",
    "  neighbourhood_range = ceil(coefficient * max_m_dsitance)\n",
    "  return learning_rate, neighbourhood_range"
   ]
  },
  {
   "cell_type": "markdown",
   "metadata": {},
   "source": [
    "### 5. Hyperparameters\n",
    "\n",
    "Hyperparameters are non-trainable parameters that need to be selected before training algorithms. They are the number of neurons, the dimension of the SOM grid, the number of training steps, the learning rate and the neighbourhood range from the BMU.\n",
    "\n",
    "In this example, we set the smaller numbers for the grid (10 * 10) but there are heuristics for the hyperparameter selections. We could use the ${5 * \\sqrt{number\\ of\\ training\\ samples}}$  to select the number of neurons. We have 1097 training samples, so ${5 * \\sqrt{1097} = 165.60}$ neurons can be created on the grid. Because we have a 2D square lattice, the square root of the number suggests how many neurons we can have for each dimension. The ceiling of ${\\sqrt{165.40} = 13}$, so the map’s dimensions can be 13 by 13.\n",
    "\n",
    "The number of training steps may require at least ${500 * n\\ rows * m\\ columns}$ to converge. We can set the number of steps to be ${500 * 13 * 13 = 84500}$ to start with. The learning rate and neighbourhood ranges can be set at large numbers and gradually reduced. It is recommended to experiment with different sets of hyperparameters for improvements.\n",
    "\n",
    "The initial value for the maximum neighbourhood range and learning rate can be set with a large number. If the rates are too small, it may result in overfitting and requiring more training steps for the learning."
   ]
  },
  {
   "cell_type": "code",
   "execution_count": 15,
   "metadata": {},
   "outputs": [
    {
     "name": "stdout",
     "output_type": "stream",
     "text": [
      "13\n"
     ]
    }
   ],
   "source": [
    "# hyperparameters\n",
    "num_nurons = 5 * np.sqrt(train_x.shape[0])\n",
    "grid_size = int(ceil(np.sqrt(num_nurons)))\n",
    "print(grid_size)\n",
    "\n",
    "num_rows = grid_size\n",
    "num_cols = grid_size\n",
    "max_m_dsitance = 4\n",
    "max_learning_rate = 0.5\n",
    "max_steps = int(500 * grid_size * grid_size)"
   ]
  },
  {
   "cell_type": "markdown",
   "metadata": {},
   "source": [
    "### 6. Training\n",
    "\n",
    "After applying the input data normalisation, we initialise the map with random values between 0 and 1 for each neuron on the lattice. Then the learning rate and the neighbouring range are calculated using the decay function. A sample input observation is randomly selected from the training data and the best matching unit is searched. Based on the Manhattan distance criterion, the neighbours including the winner are selected for learning and weights are adjusted."
   ]
  },
  {
   "cell_type": "code",
   "execution_count": 16,
   "metadata": {},
   "outputs": [
    {
     "name": "stdout",
     "output_type": "stream",
     "text": [
      "(13, 13, 4)\n"
     ]
    },
    {
     "name": "stdout",
     "output_type": "stream",
     "text": [
      "Iteration:  1000\n",
      "Iteration:  2000\n",
      "Iteration:  3000\n",
      "Iteration:  4000\n",
      "Iteration:  5000\n",
      "Iteration:  6000\n",
      "Iteration:  7000\n",
      "Iteration:  8000\n",
      "Iteration:  9000\n",
      "Iteration:  10000\n",
      "Iteration:  11000\n",
      "Iteration:  12000\n",
      "Iteration:  13000\n",
      "Iteration:  14000\n",
      "Iteration:  15000\n",
      "Iteration:  16000\n",
      "Iteration:  17000\n",
      "Iteration:  18000\n",
      "Iteration:  19000\n",
      "Iteration:  20000\n",
      "Iteration:  21000\n",
      "Iteration:  22000\n",
      "Iteration:  23000\n",
      "Iteration:  24000\n",
      "Iteration:  25000\n",
      "Iteration:  26000\n",
      "Iteration:  27000\n",
      "Iteration:  28000\n",
      "Iteration:  29000\n",
      "Iteration:  30000\n",
      "Iteration:  31000\n",
      "Iteration:  32000\n",
      "Iteration:  33000\n",
      "Iteration:  34000\n",
      "Iteration:  35000\n",
      "Iteration:  36000\n",
      "Iteration:  37000\n",
      "Iteration:  38000\n",
      "Iteration:  39000\n",
      "Iteration:  40000\n",
      "Iteration:  41000\n",
      "Iteration:  42000\n",
      "Iteration:  43000\n",
      "Iteration:  44000\n",
      "Iteration:  45000\n",
      "Iteration:  46000\n",
      "Iteration:  47000\n",
      "Iteration:  48000\n",
      "Iteration:  49000\n",
      "Iteration:  50000\n",
      "Iteration:  51000\n",
      "Iteration:  52000\n",
      "Iteration:  53000\n",
      "Iteration:  54000\n",
      "Iteration:  55000\n",
      "Iteration:  56000\n",
      "Iteration:  57000\n",
      "Iteration:  58000\n",
      "Iteration:  59000\n",
      "Iteration:  60000\n",
      "Iteration:  61000\n",
      "Iteration:  62000\n",
      "Iteration:  63000\n",
      "Iteration:  64000\n",
      "Iteration:  65000\n",
      "Iteration:  66000\n",
      "Iteration:  67000\n",
      "Iteration:  68000\n",
      "Iteration:  69000\n",
      "Iteration:  70000\n",
      "Iteration:  71000\n",
      "Iteration:  72000\n",
      "Iteration:  73000\n",
      "Iteration:  74000\n",
      "Iteration:  75000\n",
      "Iteration:  76000\n",
      "Iteration:  77000\n",
      "Iteration:  78000\n",
      "Iteration:  79000\n",
      "Iteration:  80000\n",
      "Iteration:  81000\n",
      "Iteration:  82000\n",
      "Iteration:  83000\n",
      "Iteration:  84000\n",
      "SOM training completed\n"
     ]
    }
   ],
   "source": [
    "#mian function\n",
    "\n",
    "train_x_norm = minmax_scaler(train_x) # normalisation\n",
    "\n",
    "# initialising self-organising map\n",
    "num_dims = train_x_norm.shape[1] # numnber of dimensions in the input data\n",
    "np.random.seed(40)\n",
    "som = np.random.random_sample(size=(num_rows, num_cols, num_dims)) # map construction\n",
    "print(np.shape(som))\n",
    "\n",
    "# start training iterations\n",
    "for step in range(max_steps):\n",
    "    if (step+1) % 1000 == 0:\n",
    "        print(\"Iteration: \", step+1) # print out the current iteration for every 1k\n",
    "    learning_rate, neighbourhood_range = decay(step, max_steps, max_learning_rate, max_m_dsitance)\n",
    "\n",
    "    training_index = np.random.randint(0, high=train_x_norm.shape[0]) # random index of traing data\n",
    "    winner = winning_neuron(train_x_norm, training_index, som, num_rows, num_cols)\n",
    "    for row in range(num_rows):\n",
    "        for col in range(num_cols):\n",
    "            dist = m_distance([row, col], winner)\n",
    "            if dist <= neighbourhood_range:\n",
    "                som[row][col] += learning_rate * (((neighbourhood_range + 1) - dist) / neighbourhood_range + 1) * (train_x_norm[training_index] - som[row][col])\n",
    "            else:\n",
    "                som[row][col] -= (learning_rate / np.sqrt(grid_size)) * ((dist - neighbourhood_range) / (num_nurons * num_dims)) * (train_x_norm[training_index] - som[row][col]) \n",
    "\n",
    "print(\"SOM training completed\")"
   ]
  },
  {
   "cell_type": "markdown",
   "metadata": {},
   "source": [
    "### 7. Show labels to the trained SOM\n",
    "\n",
    "In the previous step, we completed the training. Because it is unsupervised learning but there is a label data for our problem, we can now project the labels to the map. This step has two parts. Firstly, the labels for each neuron are collected. Secondly, the single label is projected to each neuron to construct a label map."
   ]
  },
  {
   "cell_type": "code",
   "execution_count": 17,
   "metadata": {},
   "outputs": [
    {
     "name": "stdout",
     "output_type": "stream",
     "text": [
      "sample data:  1000\n"
     ]
    }
   ],
   "source": [
    "# collecting labels\n",
    "\n",
    "label_data = train_y\n",
    "map = np.empty(shape=(num_rows, num_cols), dtype=object)\n",
    "\n",
    "for row in range(num_rows):\n",
    "    for col in range(num_cols):\n",
    "        map[row][col] = [] # empty list to store the label\n",
    "\n",
    "for t in range(train_x_norm.shape[0]):\n",
    "    if (t+1) % 1000 == 0:\n",
    "        print(\"sample data: \", t+1)\n",
    "    winner = winning_neuron(train_x_norm, t, som, num_rows, num_cols)\n",
    "    map[winner[0]][winner[1]].append(label_data[t]) # label of winning neuron\n",
    "\n"
   ]
  },
  {
   "cell_type": "markdown",
   "metadata": {},
   "source": [
    "We create the same grid as the SOM. For each training data, we search the winning neuron and add the label of the observation to the list for each BMU."
   ]
  },
  {
   "cell_type": "code",
   "execution_count": 18,
   "metadata": {},
   "outputs": [
    {
     "data": {
      "image/png": "[encoded data removed]",
      "text/plain": [
       "<Figure size 640x480 with 2 Axes>"
      ]
     },
     "metadata": {},
     "output_type": "display_data"
    }
   ],
   "source": [
    "# construct label map\n",
    "label_map = np.zeros(shape=(num_rows, num_cols),dtype=np.int64)\n",
    "for row in range(num_rows):\n",
    "    for col in range(num_cols):\n",
    "        label_list = map[row][col]\n",
    "        if len(label_list)==0:\n",
    "            label = 2\n",
    "        else:\n",
    "            label = max(label_list, key=label_list.count)\n",
    "        label_map[row][col] = label\n",
    "\n",
    "title = ('Iteration ' + str(max_steps))\n",
    "cmap = colors.ListedColormap(['tab:green', 'tab:red', 'tab:orange'])\n",
    "plt.imshow(label_map, cmap=cmap)\n",
    "plt.colorbar()\n",
    "plt.title(title)\n",
    "plt.show()"
   ]
  },
  {
   "cell_type": "markdown",
   "metadata": {},
   "source": [
    "To construct a label map, we assign a single label to each neuron on the map by majority voting. In the case of a neuron where no BMU is selected, we assigned the class value 2 as unidentifiable. Figures 3–7–1 and 3–7–2 show the created label map for the 1st and the final iteration. In the beginning, many of the neurons are neither 0 nor 1 and the class labels appear to be scattered randomly; the final iteration clearly shows the region separation between the class 0 and 1 though we see a couple of cells that do not belong to either class at the final iteration."
   ]
  },
  {
   "cell_type": "markdown",
   "metadata": {},
   "source": [
    "### 8. Predicting the test set labels\n",
    "\n",
    "Finally, we can conduct a binary classification of the test data using the trained map. We normalise the test x data and search the MBU for each observation t. The label associated with the neuron is returned. "
   ]
  },
  {
   "cell_type": "code",
   "execution_count": 19,
   "metadata": {},
   "outputs": [
    {
     "name": "stdout",
     "output_type": "stream",
     "text": [
      "Accuracy:  0.9745454545454545\n"
     ]
    }
   ],
   "source": [
    "# using the trained som, search the winning node of corresponding to the test data\n",
    "# get the label of the winning node\n",
    "\n",
    "data = minmax_scaler(test_x) # normalisation\n",
    "\n",
    "winner_labels = []\n",
    "\n",
    "for t in range(data.shape[0]):\n",
    "    winner = winning_neuron(data, t, som, num_rows, num_cols)\n",
    "    row = winner[0]\n",
    "    col = winner[1]\n",
    "    predicted = label_map[row][col]\n",
    "    winner_labels.append(predicted)\n",
    "\n",
    "print(\"Accuracy: \",accuracy_score(test_y, np.array(winner_labels)))"
   ]
  }
 ],
 "metadata": {
  "kernelspec": {
   "display_name": "data-science",
   "language": "python",
   "name": "python3"
  },
  "language_info": {
   "codemirror_mode": {
    "name": "ipython",
    "version": 3
   },
   "file_extension": ".py",
   "mimetype": "text/x-python",
   "name": "python",
   "nbconvert_exporter": "python",
   "pygments_lexer": "ipython3",
   "version": "3.11.5"
  }
 },
 "nbformat": 4,
 "nbformat_minor": 2
}
